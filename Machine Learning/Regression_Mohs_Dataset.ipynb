{
  "nbformat": 4,
  "nbformat_minor": 0,
  "metadata": {
    "colab": {
      "provenance": [],
      "gpuType": "T4"
    },
    "kernelspec": {
      "name": "python3",
      "display_name": "Python 3"
    },
    "language_info": {
      "name": "python"
    },
    "accelerator": "GPU"
  },
  "cells": [
    {
      "cell_type": "markdown",
      "source": [
        "# Data Preprocessing\n",
        "\n",
        "<[Dataset Link](https://www.kaggle.com/datasets/uciml/breast-cancer-wisconsin-data)>"
      ],
      "metadata": {
        "id": "wLKVh2Om9YJx"
      }
    },
    {
      "cell_type": "markdown",
      "source": [
        "Importing the libraries and datasets\n",
        "\n"
      ],
      "metadata": {
        "id": "hd-GPn1k-SVi"
      }
    },
    {
      "cell_type": "code",
      "execution_count": null,
      "metadata": {
        "id": "SKPrq0PZ9OBN"
      },
      "outputs": [],
      "source": [
        "import numpy as np\n",
        "import pandas as pd\n",
        "import matplotlib.pyplot as plt\n",
        "import seaborn as sns"
      ]
    },
    {
      "cell_type": "code",
      "source": [
        "orig_train_Data=pd.read_csv('/content/train.csv',index_col='id')\n",
        "orig_test_Data=pd.read_csv('/content/test.csv',index_col='id')"
      ],
      "metadata": {
        "id": "XYtxxZlc-dTe"
      },
      "execution_count": null,
      "outputs": []
    },
    {
      "cell_type": "code",
      "source": [
        "orig_train_Data.head()"
      ],
      "metadata": {
        "id": "TRN_1i_u_eU-"
      },
      "execution_count": null,
      "outputs": []
    },
    {
      "cell_type": "code",
      "source": [
        "orig_test_Data.head()"
      ],
      "metadata": {
        "id": "LIogJNhQATl8"
      },
      "execution_count": null,
      "outputs": []
    },
    {
      "cell_type": "markdown",
      "source": [
        "# Data Exploration (train)"
      ],
      "metadata": {
        "id": "9RVqZQ-h_u77"
      }
    },
    {
      "cell_type": "code",
      "source": [
        "orig_train_Data.shape"
      ],
      "metadata": {
        "id": "-kOJXLW8__nb"
      },
      "execution_count": null,
      "outputs": []
    },
    {
      "cell_type": "code",
      "source": [
        "orig_train_Data.info()"
      ],
      "metadata": {
        "id": "RPbckS7FAEcS"
      },
      "execution_count": null,
      "outputs": []
    },
    {
      "cell_type": "code",
      "source": [
        "orig_train_Data.select_dtypes(include='object').columns.any()"
      ],
      "metadata": {
        "id": "90cJn9EhANlc"
      },
      "execution_count": null,
      "outputs": []
    },
    {
      "cell_type": "code",
      "source": [
        "orig_train_Data.select_dtypes(include=['float64','int64']).columns"
      ],
      "metadata": {
        "id": "qc5zPJ1CAw_r"
      },
      "execution_count": null,
      "outputs": []
    },
    {
      "cell_type": "code",
      "source": [
        "len(orig_train_Data.select_dtypes(include=['float64','int64']).columns)"
      ],
      "metadata": {
        "id": "75SPUhNCBBRf"
      },
      "execution_count": null,
      "outputs": []
    },
    {
      "cell_type": "code",
      "source": [
        "#Statistical Summary\n",
        "orig_train_Data.describe()"
      ],
      "metadata": {
        "id": "U-SKxu63BFns"
      },
      "execution_count": null,
      "outputs": []
    },
    {
      "cell_type": "code",
      "source": [
        "orig_train_Data.columns"
      ],
      "metadata": {
        "id": "0RurFT5cBTpg"
      },
      "execution_count": null,
      "outputs": []
    },
    {
      "cell_type": "markdown",
      "source": [
        "# Dealing with the missing values"
      ],
      "metadata": {
        "id": "U6zEI0roEbRG"
      }
    },
    {
      "cell_type": "code",
      "source": [
        "#Checking if there are any missing values\n",
        "orig_train_Data.isnull().values.any()"
      ],
      "metadata": {
        "id": "CY3ayzFSEjfP"
      },
      "execution_count": null,
      "outputs": []
    },
    {
      "cell_type": "code",
      "source": [
        "orig_test_Data.isnull().values.any()"
      ],
      "metadata": {
        "id": "tZbhwkA6BL5M"
      },
      "execution_count": null,
      "outputs": []
    },
    {
      "cell_type": "markdown",
      "source": [
        "# Correlation Matrix and HeatMap"
      ],
      "metadata": {
        "id": "15MQD6g-TFrj"
      }
    },
    {
      "cell_type": "code",
      "source": [
        "hardness_Data=orig_train_Data.drop(columns='Hardness')"
      ],
      "metadata": {
        "id": "OAPlWlEaM45D"
      },
      "execution_count": null,
      "outputs": []
    },
    {
      "cell_type": "code",
      "source": [
        "hardness_Data.head()"
      ],
      "metadata": {
        "id": "x9qh7NEBUIUB"
      },
      "execution_count": null,
      "outputs": []
    },
    {
      "cell_type": "code",
      "source": [
        "hardness_Data.corrwith(orig_train_Data['Hardness']).plot.bar(figsize=(20,10),title='Correlation with Hardness',rot=45,grid=True)"
      ],
      "metadata": {
        "id": "_OzdcYwdU33d"
      },
      "execution_count": null,
      "outputs": []
    },
    {
      "cell_type": "code",
      "source": [
        "#Correlation Matrix\n",
        "cor_Mat=orig_train_Data.corr()"
      ],
      "metadata": {
        "id": "R9t1DGcwV_CH"
      },
      "execution_count": null,
      "outputs": []
    },
    {
      "cell_type": "code",
      "source": [
        "cor_Mat"
      ],
      "metadata": {
        "id": "ftmaTaGnW2hI"
      },
      "execution_count": null,
      "outputs": []
    },
    {
      "cell_type": "code",
      "source": [
        "plt.figure(figsize=(20,10))\n",
        "sns.heatmap(cor_Mat,annot=True)"
      ],
      "metadata": {
        "id": "yGr2Xz9nW4Vy"
      },
      "execution_count": null,
      "outputs": []
    },
    {
      "cell_type": "markdown",
      "source": [
        "# Splitting the train and test set"
      ],
      "metadata": {
        "id": "OBbe9ZKeXngr"
      }
    },
    {
      "cell_type": "code",
      "source": [
        "#Matrix of Features\n",
        "X=orig_train_Data.iloc[:,0:-1].values"
      ],
      "metadata": {
        "id": "lLal6r0nXQ9p"
      },
      "execution_count": null,
      "outputs": []
    },
    {
      "cell_type": "code",
      "source": [
        "X.astype('float64')"
      ],
      "metadata": {
        "id": "vXHqT9oHYXi4"
      },
      "execution_count": null,
      "outputs": []
    },
    {
      "cell_type": "code",
      "source": [
        "y=orig_train_Data.iloc[:,-1].values"
      ],
      "metadata": {
        "id": "afYNN2rXYZJp"
      },
      "execution_count": null,
      "outputs": []
    },
    {
      "cell_type": "code",
      "source": [
        "y.astype('float64')"
      ],
      "metadata": {
        "id": "VYwFaVBMZFqm"
      },
      "execution_count": null,
      "outputs": []
    },
    {
      "cell_type": "code",
      "source": [
        "from sklearn.model_selection import train_test_split"
      ],
      "metadata": {
        "id": "zS-s7qCmZGzk"
      },
      "execution_count": null,
      "outputs": []
    },
    {
      "cell_type": "code",
      "source": [
        "X_train,X_test,y_train,y_test=train_test_split(X,y,test_size=0.2,random_state=0)"
      ],
      "metadata": {
        "id": "54JW6BXHZiUn"
      },
      "execution_count": null,
      "outputs": []
    },
    {
      "cell_type": "code",
      "source": [
        "X_train.shape"
      ],
      "metadata": {
        "id": "xq12Zic3aB5_"
      },
      "execution_count": null,
      "outputs": []
    },
    {
      "cell_type": "code",
      "source": [
        "X_test.shape"
      ],
      "metadata": {
        "id": "nzvPfcHtaGwh"
      },
      "execution_count": null,
      "outputs": []
    },
    {
      "cell_type": "code",
      "source": [
        "y_train.shape"
      ],
      "metadata": {
        "id": "Ct_23DBlaIoB"
      },
      "execution_count": null,
      "outputs": []
    },
    {
      "cell_type": "code",
      "source": [
        "y_test.shape"
      ],
      "metadata": {
        "id": "pskp1DTOaME2"
      },
      "execution_count": null,
      "outputs": []
    },
    {
      "cell_type": "markdown",
      "source": [
        "# Feature Scaling"
      ],
      "metadata": {
        "id": "CPPgK-W7abxB"
      }
    },
    {
      "cell_type": "code",
      "source": [
        "from sklearn.preprocessing import StandardScaler"
      ],
      "metadata": {
        "id": "srm8kwRsaNmQ"
      },
      "execution_count": null,
      "outputs": []
    },
    {
      "cell_type": "code",
      "source": [
        "sc=StandardScaler()"
      ],
      "metadata": {
        "id": "ixOHw_a0as_n"
      },
      "execution_count": null,
      "outputs": []
    },
    {
      "cell_type": "code",
      "source": [
        "X_train=sc.fit_transform(X_train)\n",
        "X_test=sc.transform(X_test)"
      ],
      "metadata": {
        "id": "SG3BSEr5a_jM"
      },
      "execution_count": null,
      "outputs": []
    },
    {
      "cell_type": "code",
      "source": [
        "X_train"
      ],
      "metadata": {
        "id": "38TQ0eKTbYy_"
      },
      "execution_count": null,
      "outputs": []
    },
    {
      "cell_type": "code",
      "source": [
        "X_test"
      ],
      "metadata": {
        "id": "KAEkQQHNbciR"
      },
      "execution_count": null,
      "outputs": []
    },
    {
      "cell_type": "markdown",
      "source": [
        "# Building the Model"
      ],
      "metadata": {
        "id": "lJMRtopBcD-b"
      }
    },
    {
      "cell_type": "code",
      "source": [
        "from sklearn.metrics import precision_score,accuracy_score,confusion_matrix,f1_score,recall_score,mean_absolute_error"
      ],
      "metadata": {
        "id": "QY8qSupHdSFg"
      },
      "execution_count": null,
      "outputs": []
    },
    {
      "cell_type": "code",
      "source": [
        "from sklearn.model_selection import cross_val_score"
      ],
      "metadata": {
        "id": "c3_Xl7uFmXMb"
      },
      "execution_count": null,
      "outputs": []
    },
    {
      "cell_type": "markdown",
      "source": [
        "Random Forest\n"
      ],
      "metadata": {
        "id": "9LImXdx4o6fk"
      }
    },
    {
      "cell_type": "code",
      "source": [
        "from sklearn.ensemble import RandomForestRegressor"
      ],
      "metadata": {
        "id": "7PY33lyOoDKt"
      },
      "execution_count": null,
      "outputs": []
    },
    {
      "cell_type": "code",
      "source": [
        "model_RF=RandomForestRegressor(random_state=0)\n",
        "model_RF.fit(X_train,y_train)"
      ],
      "metadata": {
        "id": "DZfOnm6SpLGK"
      },
      "execution_count": null,
      "outputs": []
    },
    {
      "cell_type": "code",
      "source": [
        "predictions=model_RF.predict(X_test)"
      ],
      "metadata": {
        "id": "l_RwOdl9pdDE"
      },
      "execution_count": null,
      "outputs": []
    },
    {
      "cell_type": "code",
      "source": [
        "mae=mean_absolute_error(y_test,predictions)\n",
        "print('MAE: ',mae)"
      ],
      "metadata": {
        "id": "biJ1HyBZqEcU"
      },
      "execution_count": null,
      "outputs": []
    },
    {
      "cell_type": "markdown",
      "source": [
        "### Cross Validation"
      ],
      "metadata": {
        "id": "jBIZZLH8raBy"
      }
    },
    {
      "cell_type": "markdown",
      "source": [
        "Random Search to find best Parameters (Random Forest Regressor)"
      ],
      "metadata": {
        "id": "VnFI-89Cvt-6"
      }
    },
    {
      "cell_type": "code",
      "source": [
        "from sklearn.model_selection import RandomizedSearchCV"
      ],
      "metadata": {
        "id": "79tN-dt9r_qH"
      },
      "execution_count": null,
      "outputs": []
    },
    {
      "cell_type": "code",
      "source": [
        "parameters={\n",
        "    'n_estimators': np.arange(100, 600, 100),\n",
        "    'max_features': ['auto', 'sqrt'],\n",
        "    'max_depth': [None, 5, 10, 15, 20],\n",
        "    'min_samples_split': [2, 5, 10],\n",
        "    'min_samples_leaf': [1, 2, 4],\n",
        "    'bootstrap': [True, False],\n",
        "    'criterion': ['mae']\n",
        "}"
      ],
      "metadata": {
        "id": "AbavdEFIwJ87"
      },
      "execution_count": null,
      "outputs": []
    },
    {
      "cell_type": "code",
      "source": [
        "parameters"
      ],
      "metadata": {
        "id": "6qJe1MUp20Is"
      },
      "execution_count": null,
      "outputs": []
    },
    {
      "cell_type": "code",
      "source": [
        "random_search=RandomizedSearchCV(estimator=model_RF,param_distributions=parameters,n_iter=5,scoring='neg_mean_absolute_error',n_jobs=-1,cv=5,verbose=3)"
      ],
      "metadata": {
        "id": "ppEtJHXt23eW"
      },
      "execution_count": null,
      "outputs": []
    },
    {
      "cell_type": "code",
      "source": [
        "random_search.fit(X_train,y_train)"
      ],
      "metadata": {
        "id": "cOvvTsmz32oC"
      },
      "execution_count": null,
      "outputs": []
    },
    {
      "cell_type": "code",
      "source": [
        "random_search.best_estimator_"
      ],
      "metadata": {
        "id": "bbbV4quL39Ho"
      },
      "execution_count": null,
      "outputs": []
    },
    {
      "cell_type": "code",
      "source": [
        "random_search.best_score_"
      ],
      "metadata": {
        "id": "ep3naPXK5p0T"
      },
      "execution_count": null,
      "outputs": []
    },
    {
      "cell_type": "code",
      "source": [
        "random_search.best_params_"
      ],
      "metadata": {
        "id": "K846Ij5j5tVX"
      },
      "execution_count": null,
      "outputs": []
    },
    {
      "cell_type": "markdown",
      "source": [
        "FINAL MODEL"
      ],
      "metadata": {
        "id": "JjEZWF5-5-Ur"
      }
    },
    {
      "cell_type": "code",
      "source": [
        "from sklearn.ensemble import RandomForestRegressor\n",
        "model=RandomForestRegressor(criterion='absolute_error', max_depth=15,\n",
        "                      max_features='auto', min_samples_leaf=2,\n",
        "                      min_samples_split=10, n_estimators=400, random_state=0)\n",
        "model.fit(X_train,y_train)"
      ],
      "metadata": {
        "id": "xg_ARHIO5yde"
      },
      "execution_count": null,
      "outputs": []
    },
    {
      "cell_type": "code",
      "source": [
        "fin_pred=model.predict(X_test)"
      ],
      "metadata": {
        "id": "3ivXeXHh6ro8"
      },
      "execution_count": null,
      "outputs": []
    },
    {
      "cell_type": "code",
      "source": [
        "mae=mean_absolute_error(y_test,fin_pred)\n",
        "print('MAE: ',mae)"
      ],
      "metadata": {
        "id": "N2TPSZ1z60e6"
      },
      "execution_count": null,
      "outputs": []
    },
    {
      "cell_type": "markdown",
      "source": [
        "### Cross Validation"
      ],
      "metadata": {
        "id": "gkbkXCou70fe"
      }
    },
    {
      "cell_type": "code",
      "source": [
        "accuracies=cross_val_score(estimator=model,X=X_train,y=y_train,cv=10)\n",
        "print('Accuracy is {:.2F} %'.format(accuracies.mean()*100))\n",
        "print('Standard Deviation is {:.2F} %'.format(accuracies.std()*100))"
      ],
      "metadata": {
        "id": "uVoznN247b-L"
      },
      "execution_count": null,
      "outputs": []
    }
  ]
}
