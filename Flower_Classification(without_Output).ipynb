{
  "nbformat": 4,
  "nbformat_minor": 0,
  "metadata": {
    "colab": {
      "provenance": [],
      "gpuType": "T4"
    },
    "kernelspec": {
      "name": "python3",
      "display_name": "Python 3"
    },
    "language_info": {
      "name": "python"
    },
    "accelerator": "GPU"
  },
  "cells": [
    {
      "cell_type": "code",
      "execution_count": null,
      "metadata": {
        "id": "WzfjXVSCcp8E"
      },
      "outputs": [],
      "source": [
        "from google.colab import files\n",
        "uploaded=files.upload()"
      ]
    },
    {
      "cell_type": "code",
      "source": [
        "!pip install kaggle"
      ],
      "metadata": {
        "id": "EVdItZdFdUFf"
      },
      "execution_count": null,
      "outputs": []
    },
    {
      "cell_type": "code",
      "source": [
        "!mkdir ~/.kaggle\n",
        "!cp kaggle.json ~/.kaggle/\n",
        "!chmod 600 ~/.kaggle/kaggle.json"
      ],
      "metadata": {
        "id": "0oLl8z6JeE6V"
      },
      "execution_count": null,
      "outputs": []
    },
    {
      "cell_type": "code",
      "source": [
        "!kaggle datasets list"
      ],
      "metadata": {
        "id": "m3rdbjQpe46N"
      },
      "execution_count": null,
      "outputs": []
    },
    {
      "cell_type": "code",
      "source": [
        "!kaggle datasets download -d thanatoz/flower-classification-dataset"
      ],
      "metadata": {
        "id": "KiGsWYIre-UF"
      },
      "execution_count": null,
      "outputs": []
    },
    {
      "cell_type": "code",
      "source": [
        "import zipfile\n",
        "import os\n",
        "\n",
        "# Specify the path to your zip file\n",
        "zip_file_path = \"/content/flower-classification-dataset.zip\"\n",
        "\n",
        "# Specify the target directory for extraction\n",
        "extracted_dir = \"/content/flower-classification-dataset\"\n",
        "\n",
        "# Create the target directory if it doesn't exist\n",
        "os.makedirs(extracted_dir, exist_ok=True)\n",
        "\n",
        "# Extract the contents of the zip file\n",
        "with zipfile.ZipFile(zip_file_path, 'r') as zip_ref:\n",
        "    zip_ref.extractall(extracted_dir)\n",
        "\n",
        "# List the files in the extracted directory\n",
        "extracted_files = os.listdir(extracted_dir)\n",
        "print(\"Extracted files:\", extracted_files)"
      ],
      "metadata": {
        "id": "UlvBKO14gV5e"
      },
      "execution_count": null,
      "outputs": []
    },
    {
      "cell_type": "code",
      "source": [
        "import pandas as pd\n",
        "import numpy as np\n",
        "import matplotlib.pyplot as plt\n",
        "from PIL import Image\n",
        "from tqdm.notebook import tqdm"
      ],
      "metadata": {
        "id": "GZ3rQgjphJfz"
      },
      "execution_count": null,
      "outputs": []
    },
    {
      "cell_type": "code",
      "source": [
        "ROOT_PATH='/content/flower-classification-dataset'\n",
        "df=pd.read_csv(os.path.join(ROOT_PATH,'labels.csv'))"
      ],
      "metadata": {
        "id": "oaPBNLnggx6J"
      },
      "execution_count": null,
      "outputs": []
    },
    {
      "cell_type": "code",
      "source": [
        "df.head()"
      ],
      "metadata": {
        "id": "3mm-RuaQhYRC"
      },
      "execution_count": null,
      "outputs": []
    },
    {
      "cell_type": "code",
      "source": [
        "df.tail()"
      ],
      "metadata": {
        "id": "Lbg_ZczahcLe"
      },
      "execution_count": null,
      "outputs": []
    },
    {
      "cell_type": "code",
      "source": [
        "plt.figure(figsize=(20,6))\n",
        "df.category.value_counts().plot(kind='bar')"
      ],
      "metadata": {
        "id": "h5q3fSWRhi4o"
      },
      "execution_count": null,
      "outputs": []
    },
    {
      "cell_type": "code",
      "source": [
        "s=df.category.value_counts()\n",
        "s.index[:5], s.values[:5]\n",
        "print('The highest class is','[',s.index[0],']','with','[',s.values[0],']','images')\n",
        "print('The lowest class is','[',s.index[-1],']','with','[',s.values[-1],']','images')\n"
      ],
      "metadata": {
        "id": "1P9tXRHmh4aO"
      },
      "execution_count": null,
      "outputs": []
    },
    {
      "cell_type": "code",
      "source": [
        "unique_df=df.iloc[df.category.drop_duplicates().index].sort_values('category').reset_index(drop=True)"
      ],
      "metadata": {
        "id": "4LZHGfACjVyS"
      },
      "execution_count": null,
      "outputs": []
    },
    {
      "cell_type": "code",
      "source": [
        "unique_df"
      ],
      "metadata": {
        "id": "ghKskmVRlYTg"
      },
      "execution_count": null,
      "outputs": []
    },
    {
      "cell_type": "code",
      "source": [
        "fig,axis=plt.subplots(34,3,figsize=(15,225))\n",
        "count=-1\n",
        "for i,j in enumerate(unique_df.values):\n",
        "  if i%3==0:\n",
        "    count+=1\n",
        "  axis[count,i%3].imshow(Image.open(os.path.join(ROOT_PATH,'files',f'{j[0]}.jpg')).resize((200,200)))\n",
        "  axis[count,i%3].set_title(str(j[1]))"
      ],
      "metadata": {
        "id": "drFYGFU_lhCP"
      },
      "execution_count": null,
      "outputs": []
    },
    {
      "cell_type": "code",
      "source": [
        "target_class=51\n",
        "fig,axis=plt.subplots(34,3,figsize=(15,225))\n",
        "count=-1\n",
        "for i,j in enumerate(df[df.category==target_class].head(102).values):\n",
        "  if i%3==0:\n",
        "    count+=1\n",
        "  axis[count,i%3].imshow(Image.open(os.path.join(ROOT_PATH,'files',f'{j[0]}.jpg')).resize((200,200)))\n",
        "  axis[count,i%3].set_title(str(j[1]))"
      ],
      "metadata": {
        "id": "6T_5bsuEpdsP"
      },
      "execution_count": null,
      "outputs": []
    },
    {
      "cell_type": "code",
      "source": [
        "X=[]\n",
        "y=[]\n",
        "\n",
        "for image,label in tqdm(zip(df.image_id.values,df.category.values),total=len(df)):\n",
        "  try:\n",
        "    Xt=np.array(Image.open(os.path.join(ROOT_PATH,'files',f'{image}.jpg')).resize((128,128)))\n",
        "    yt=label\n",
        "    X.append(Xt)\n",
        "    y.append(yt)\n",
        "  except:\n",
        "    print(os.path.join(ROOT_PATH,'files',f'{image}.jpg'))\n",
        "\n",
        "X = np.array(X)\n",
        "y = np.array(y)\n",
        "\n",
        "X.shape,y.shape"
      ],
      "metadata": {
        "id": "tm6VLKldsGU5"
      },
      "execution_count": null,
      "outputs": []
    },
    {
      "cell_type": "code",
      "source": [
        "files = os.listdir(os.path.join(ROOT_PATH,'files'))\n",
        "print('The number of total images is:',len(files))\n",
        "print('The total number of labels in labels.csv is:',len(df))"
      ],
      "metadata": {
        "id": "hK1QzAjKqbcC"
      },
      "execution_count": null,
      "outputs": []
    },
    {
      "cell_type": "code",
      "source": [
        "from sklearn.model_selection import train_test_split"
      ],
      "metadata": {
        "id": "VIAkuCPzBD-f"
      },
      "execution_count": null,
      "outputs": []
    },
    {
      "cell_type": "code",
      "source": [
        "train_X,test_X,train_y,test_y=train_test_split(X,y,test_size=0.2)"
      ],
      "metadata": {
        "id": "BR8OSd4Js5aF"
      },
      "execution_count": null,
      "outputs": []
    },
    {
      "cell_type": "code",
      "source": [
        "from keras.utils import to_categorical"
      ],
      "metadata": {
        "id": "PwmYK7UH47XB"
      },
      "execution_count": null,
      "outputs": []
    },
    {
      "cell_type": "code",
      "source": [
        "train_y=to_categorical(train_y)\n",
        "test_y=to_categorical(test_y)\n",
        "\n",
        "train_y.shape,test_y.shape"
      ],
      "metadata": {
        "id": "gf24feic4zdq"
      },
      "execution_count": null,
      "outputs": []
    },
    {
      "cell_type": "code",
      "source": [
        "train_X.shape,test_X.shape"
      ],
      "metadata": {
        "id": "ds9jHk6v5s87"
      },
      "execution_count": null,
      "outputs": []
    },
    {
      "cell_type": "code",
      "source": [
        "plt.figure(figsize=(14,14))\n",
        "for i in range(12):\n",
        "  plt.subplot(4,3,i+1)\n",
        "  plt.imshow(train_X[i])\n",
        "\n",
        "plt.show()"
      ],
      "metadata": {
        "id": "Ed2-XsVP51Lz"
      },
      "execution_count": null,
      "outputs": []
    },
    {
      "cell_type": "code",
      "source": [
        "plt.figure(figsize=(18,6))\n",
        "df.category.value_counts().plot(kind='bar')"
      ],
      "metadata": {
        "id": "fLvdnU1n6zJH"
      },
      "execution_count": null,
      "outputs": []
    },
    {
      "cell_type": "code",
      "source": [
        "height=[]\n",
        "width=[]\n",
        "for image in tqdm(os.listdir(os.path.join(ROOT_PATH,'files'))):\n",
        "  ht,wt=Image.open(os.path.join(ROOT_PATH,'files',f'{image}')).size\n",
        "  height.append(ht)\n",
        "  width.append(wt)"
      ],
      "metadata": {
        "id": "5miiZwK78d10"
      },
      "execution_count": null,
      "outputs": []
    },
    {
      "cell_type": "code",
      "source": [
        "from collections import Counter"
      ],
      "metadata": {
        "id": "XtYARsLmBJUH"
      },
      "execution_count": null,
      "outputs": []
    },
    {
      "cell_type": "code",
      "source": [
        "Counter(height),Counter(width)"
      ],
      "metadata": {
        "id": "wPXxNMQiAHLd"
      },
      "execution_count": null,
      "outputs": []
    },
    {
      "cell_type": "code",
      "source": [
        "from keras.preprocessing.image import ImageDataGenerator, array_to_img, img_to_array, load_img"
      ],
      "metadata": {
        "id": "KCTRd3gCAunL"
      },
      "execution_count": null,
      "outputs": []
    },
    {
      "cell_type": "code",
      "source": [
        "!rm -rf preview\n",
        "!mkdir preview"
      ],
      "metadata": {
        "id": "sZOBrE9aBa9o"
      },
      "execution_count": null,
      "outputs": []
    },
    {
      "cell_type": "code",
      "source": [
        "datagen=ImageDataGenerator(\n",
        "    rotation_range=40,\n",
        "    width_shift_range=0.2,\n",
        "    height_shift_range=0.2,\n",
        "    shear_range=0.2,\n",
        "    zoom_range=0.2,\n",
        "    horizontal_flip=True,\n",
        "    fill_mode='nearest'\n",
        ")"
      ],
      "metadata": {
        "id": "vRRpdc4hBsoP"
      },
      "execution_count": null,
      "outputs": []
    },
    {
      "cell_type": "code",
      "source": [
        "img=load_img(os.path.join(ROOT_PATH,'files','0.jpg'))\n",
        "x=img_to_array(img)\n",
        "x=x.reshape((1,)+ x.shape)"
      ],
      "metadata": {
        "id": "9Sa94DuPCVEC"
      },
      "execution_count": null,
      "outputs": []
    },
    {
      "cell_type": "code",
      "source": [
        "i=0\n",
        "for batch in datagen.flow(x,batch_size=1,save_to_dir='preview',save_prefix='f',save_format='jpg'):\n",
        "  i+=1\n",
        "  if i>20:\n",
        "    break\n"
      ],
      "metadata": {
        "id": "klZ-XXaLD-Qv"
      },
      "execution_count": null,
      "outputs": []
    },
    {
      "cell_type": "code",
      "source": [
        "x=[]\n",
        "for image in os.listdir('preview'):\n",
        "  xt=np.array(Image.open(os.path.join('preview',image)).resize((128,128)))\n",
        "  x.append(xt)"
      ],
      "metadata": {
        "id": "5o794oHaEEbQ"
      },
      "execution_count": null,
      "outputs": []
    },
    {
      "cell_type": "code",
      "source": [
        "plt.figure(figsize=(14,14))\n",
        "for i in range(12):\n",
        "  plt.subplot(4,3,i+1)\n",
        "  plt.imshow(x[i])\n",
        "\n",
        "plt.show()"
      ],
      "metadata": {
        "id": "11Aj5QzYFi5f"
      },
      "execution_count": null,
      "outputs": []
    },
    {
      "cell_type": "code",
      "source": [
        "from keras.layers import MaxPooling2D, Conv2D, Activation,Flatten, Dense, Dropout\n",
        "from keras.models import Sequential"
      ],
      "metadata": {
        "id": "AXi5b-GnGAcX"
      },
      "execution_count": null,
      "outputs": []
    },
    {
      "cell_type": "code",
      "source": [
        "model=Sequential()\n",
        "model.add(Conv2D(32,(3,3),input_shape=(128,128,3)))\n",
        "model.add(Activation('relu'))\n",
        "model.add(MaxPooling2D(pool_size=(2,2)))\n",
        "model.add(Conv2D(32,(3,3)))\n",
        "model.add(Activation('relu'))\n",
        "model.add(MaxPooling2D(pool_size=(2,2)))\n",
        "model.add(Conv2D(32,(3,3)))\n",
        "model.add(Activation('relu'))\n",
        "model.add(MaxPooling2D(pool_size=(2,2)))\n",
        "\n",
        "model.add(Flatten())\n",
        "model.add(Dense(64))\n",
        "model.add(Activation('relu'))\n",
        "model.add(Dropout(0.5))\n",
        "model.add(Dense(103))\n",
        "model.add(Activation('softmax'))\n",
        "\n",
        "model.compile(loss='categorical_crossentropy',optimizer='adam',metrics=['accuracy'])"
      ],
      "metadata": {
        "id": "5UJtHKEkGwps"
      },
      "execution_count": null,
      "outputs": []
    },
    {
      "cell_type": "code",
      "source": [
        "model.summary()"
      ],
      "metadata": {
        "id": "IlfzGOgoJKoi"
      },
      "execution_count": null,
      "outputs": []
    },
    {
      "cell_type": "code",
      "source": [
        "batch_size=16\n",
        "\n",
        "train_datagen=ImageDataGenerator(\n",
        "    rescale=1./255,\n",
        "    shear_range=0.2,\n",
        "    zoom_range=0.2,\n",
        "    horizontal_flip=True)\n",
        "\n",
        "test_datagen=ImageDataGenerator(rescale=1./255)"
      ],
      "metadata": {
        "id": "-pLQxyHUJOcG"
      },
      "execution_count": null,
      "outputs": []
    },
    {
      "cell_type": "code",
      "source": [
        "train_generator=train_datagen.flow(\n",
        "    train_X,\n",
        "    train_y,\n",
        "    batch_size=batch_size,\n",
        "    shuffle=True)\n",
        "\n",
        "valid_generator=test_datagen.flow(\n",
        "    test_X,\n",
        "    test_y,\n",
        "    shuffle=False)"
      ],
      "metadata": {
        "id": "GPIrv2YBKxSR"
      },
      "execution_count": null,
      "outputs": []
    },
    {
      "cell_type": "code",
      "source": [
        "hist=model.fit_generator(\n",
        "    train_generator,\n",
        "    epochs=50,\n",
        "    validation_data=valid_generator)"
      ],
      "metadata": {
        "id": "pKrpVIMGOvC7"
      },
      "execution_count": null,
      "outputs": []
    }
  ]
}