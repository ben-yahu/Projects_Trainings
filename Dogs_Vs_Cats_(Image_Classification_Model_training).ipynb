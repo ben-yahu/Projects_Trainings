{
  "cells": [
    {
      "cell_type": "code",
      "execution_count": null,
      "metadata": {
        "id": "mPjYQHOxfqZO"
      },
      "outputs": [],
      "source": [
        "import tensorflow as tf\n",
        "from tensorflow import keras\n",
        "import numpy as np\n",
        "import pandas as pd\n",
        "import matplotlib.pyplot as plt\n",
        "from sklearn.model_selection import train_test_split\n",
        "from keras.preprocessing.image import ImageDataGenerator\n",
        "from tensorflow.keras import backend as K\n",
        "from keras.applications import InceptionResNetV2"
      ]
    },
    {
      "cell_type": "code",
      "execution_count": null,
      "metadata": {
        "id": "YvQuBZ1Eeyp1"
      },
      "outputs": [],
      "source": [
        "import os\n",
        "import shutil"
      ]
    },
    {
      "cell_type": "code",
      "execution_count": null,
      "metadata": {
        "id": "WRf3NasCW63z"
      },
      "outputs": [],
      "source": [
        "from google.colab import files\n",
        "files.upload()"
      ]
    },
    {
      "cell_type": "code",
      "execution_count": null,
      "metadata": {
        "id": "QjdYA0Mw8uti"
      },
      "outputs": [],
      "source": [
        "!mkdir -p ~/.kaggle\n",
        "!cp kaggle.json ~/.kaggle/\n",
        "!chmod 600 ~/.kaggle/kaggle.json"
      ]
    },
    {
      "cell_type": "code",
      "execution_count": null,
      "metadata": {
        "id": "-AytI8-39dX2"
      },
      "outputs": [],
      "source": [
        "!kaggle competitions download -c dogs-vs-cats"
      ]
    },
    {
      "cell_type": "code",
      "execution_count": null,
      "metadata": {
        "id": "UsQsEdKy9iJa"
      },
      "outputs": [],
      "source": [
        "!unzip dogs-vs-cats.zip"
      ]
    },
    {
      "cell_type": "code",
      "execution_count": null,
      "metadata": {
        "id": "kVVbdKhF974m"
      },
      "outputs": [],
      "source": [
        "!unzip train.zip"
      ]
    },
    {
      "cell_type": "code",
      "execution_count": null,
      "metadata": {
        "id": "jWxQ2VT59-2P"
      },
      "outputs": [],
      "source": [
        "!unzip test1.zip"
      ]
    },
    {
      "cell_type": "code",
      "execution_count": null,
      "metadata": {
        "id": "MyrKGXc7-Lcv"
      },
      "outputs": [],
      "source": [
        "# Path to the directory containing images\n",
        "train_dir = '/content/train'\n",
        "\n",
        "# Loop through files in the 'train' directory\n",
        "for filename in os.listdir(train_dir):\n",
        "    if 'cat' in filename:\n",
        "      os.makedirs(os.path.join(train_dir, 'cats'),exist_ok=True)\n",
        "      shutil.move(os.path.join(train_dir, filename), os.path.join(train_dir, 'cats', filename))\n",
        "    elif 'dog' in filename:\n",
        "      os.makedirs(os.path.join(train_dir, 'dogs'),exist_ok=True)\n",
        "      shutil.move(os.path.join(train_dir, filename), os.path.join(train_dir, 'dogs', filename))"
      ]
    },
    {
      "cell_type": "code",
      "execution_count": null,
      "metadata": {
        "id": "wsYUEXtup56r"
      },
      "outputs": [],
      "source": [
        "# List to store image paths and corresponding labels (assuming binary classification)\n",
        "image_paths = []\n",
        "labels = []\n",
        "\n",
        "# Loop through the directory to get image paths and labels\n",
        "for label in os.listdir(train_dir):\n",
        "    label_dir = os.path.join(train_dir, label)\n",
        "    for image_file in os.listdir(label_dir):\n",
        "        image_path = os.path.join(label_dir, image_file)\n",
        "        image_paths.append(image_path)\n",
        "        labels.append(label)  # Assuming directory names represent labels"
      ]
    },
    {
      "cell_type": "code",
      "execution_count": null,
      "metadata": {
        "id": "HM4fOcaVwCEp"
      },
      "outputs": [],
      "source": [
        "X_train,X_test,y_train,y_test=train_test_split(image_paths,labels,random_state=28)\n",
        "X_train,X_valid,y_train,y_valid=train_test_split(X_train,y_train,random_state=28)"
      ]
    },
    {
      "cell_type": "code",
      "execution_count": null,
      "metadata": {
        "colab": {
          "base_uri": "https://localhost:8080/"
        },
        "id": "MoMBr29kxe3y",
        "outputId": "7b453c4c-aa59-4135-8af8-f7be9dfc8374"
      },
      "outputs": [
        {
          "output_type": "stream",
          "name": "stdout",
          "text": [
            " Length of X_train: 14062 \t y_train: 14062 \n",
            " Length of X_valid: 4688 \t y_valid: 4688 \n",
            " Length of X_test: 6250 \t y_test: 6250\n"
          ]
        }
      ],
      "source": [
        "print(' Length of X_train:',len(X_train),'\\t','y_train:',len(y_train),\n",
        "      '\\n','Length of X_valid:',len(X_valid),'\\t','y_valid:',len(y_valid),\n",
        "      '\\n','Length of X_test:',len(X_test),'\\t','y_test:',len(y_test))"
      ]
    },
    {
      "cell_type": "code",
      "execution_count": null,
      "metadata": {
        "id": "epSx2XMbyI8w"
      },
      "outputs": [],
      "source": [
        "data = []  # Create an empty list to store the pairs\n",
        "\n",
        "for x, y in zip(X_train, y_train):\n",
        "    data.append((str(x), str(y)))\n",
        "\n",
        "for path,label in data:\n",
        "  formatted_path=path.ljust(40)\n",
        "  print(f\"{formatted_path}{label}\")"
      ]
    },
    {
      "cell_type": "code",
      "execution_count": null,
      "metadata": {
        "colab": {
          "base_uri": "https://localhost:8080/"
        },
        "id": "q97D0GOkzf1P",
        "outputId": "223844ac-37ec-434f-ea43-d3eaca76376a"
      },
      "outputs": [
        {
          "output_type": "stream",
          "name": "stdout",
          "text": [
            "Found 14062 validated image filenames belonging to 2 classes.\n",
            "Found 4688 validated image filenames belonging to 2 classes.\n",
            "Found 6250 validated image filenames belonging to 2 classes.\n"
          ]
        }
      ],
      "source": [
        "# Assuming X_train, X_valid, and X_test are lists of image paths\n",
        "# and y_train, y_valid, and y_test are lists of corresponding labels\n",
        "\n",
        "# Creating DataFrames from the lists\n",
        "train_df = pd.DataFrame({'path': X_train, 'label': y_train})\n",
        "valid_df = pd.DataFrame({'path': X_valid, 'label': y_valid})\n",
        "test_df = pd.DataFrame({'path': X_test, 'label': y_test})\n",
        "\n",
        "# Creating ImageDataGenerators\n",
        "train_datagen = ImageDataGenerator(rescale=1./255,\n",
        "                                   rotation_range=40,\n",
        "                                   width_shift_range=0.2,\n",
        "                                   height_shift_range=0.2,\n",
        "                                   shear_range=0.2,\n",
        "                                   zoom_range=0.2,\n",
        "                                   horizontal_flip=True)\n",
        "valid_datagen = ImageDataGenerator(rescale=1./255)\n",
        "test_datagen = ImageDataGenerator(rescale=1./255)\n",
        "\n",
        "# Flow from dataframe\n",
        "train_generator = train_datagen.flow_from_dataframe(\n",
        "    dataframe=train_df,\n",
        "    x_col='path',\n",
        "    y_col='label',\n",
        "    target_size=(150, 150),\n",
        "    batch_size=32,\n",
        "    class_mode='binary'\n",
        ")\n",
        "\n",
        "valid_generator = valid_datagen.flow_from_dataframe(\n",
        "    dataframe=valid_df,\n",
        "    x_col='path',\n",
        "    y_col='label',\n",
        "    target_size=(150, 150),\n",
        "    batch_size=32,\n",
        "    class_mode='binary'\n",
        ")\n",
        "\n",
        "test_generator = test_datagen.flow_from_dataframe(\n",
        "    dataframe=test_df,\n",
        "    x_col='path',\n",
        "    y_col='label',\n",
        "    target_size=(150, 150),\n",
        "    batch_size=32,\n",
        "    class_mode='binary'\n",
        ")"
      ]
    },
    {
      "cell_type": "code",
      "execution_count": null,
      "metadata": {
        "id": "FQGI5vso142K"
      },
      "outputs": [],
      "source": [
        "model=keras.models.Sequential()\n",
        "\n",
        "model.add(keras.layers.Conv2D(32,(3,3),activation='relu',input_shape=(150,150,3)))\n",
        "model.add(keras.layers.MaxPooling2D((2,2)))\n",
        "\n",
        "model.add(keras.layers.Conv2D(64,(3,3),activation='relu'))\n",
        "model.add(keras.layers.MaxPooling2D((2,2)))\n",
        "\n",
        "model.add(keras.layers.Conv2D(128,(3,3),activation='relu'))\n",
        "model.add(keras.layers.MaxPooling2D((2,2)))\n",
        "\n",
        "model.add(keras.layers.Conv2D(128,(3,3),activation='relu'))\n",
        "model.add(keras.layers.MaxPooling2D((2,2)))\n",
        "\n",
        "model.add(keras.layers.Flatten())\n",
        "model.add(keras.layers.Dropout(0.5))\n",
        "model.add(keras.layers.Dense(512,activation='relu'))\n",
        "model.add(keras.layers.Dense(1,activation='sigmoid'))"
      ]
    },
    {
      "cell_type": "code",
      "execution_count": null,
      "metadata": {
        "id": "PxTp2Urc4LZs"
      },
      "outputs": [],
      "source": [
        "model.summary()"
      ]
    },
    {
      "cell_type": "code",
      "execution_count": null,
      "metadata": {
        "id": "K-8Fg45E70sj"
      },
      "outputs": [],
      "source": [
        "model.compile(loss='binary_crossentropy',\n",
        "              optimizer=keras.optimizers.RMSprop(learning_rate=1e-4),\n",
        "              metrics=['acc'])"
      ]
    },
    {
      "cell_type": "code",
      "execution_count": null,
      "metadata": {
        "colab": {
          "background_save": true
        },
        "id": "NE-QZRcl9BwG"
      },
      "outputs": [],
      "source": [
        "model_history=model.fit(train_generator,\n",
        "                        steps_per_epoch=440,\n",
        "                        epochs=100,\n",
        "                        validation_data=valid_generator,\n",
        "                        validation_steps=147)"
      ]
    },
    {
      "cell_type": "code",
      "execution_count": null,
      "metadata": {
        "id": "2Dncf842-w20"
      },
      "outputs": [],
      "source": [
        "pd.DataFrame(model_history.history).plot(figsize=(7,10))\n",
        "plt.grid(True)\n",
        "plt.gca().set_ylim(0,1)\n",
        "plt.show()"
      ]
    },
    {
      "cell_type": "code",
      "execution_count": null,
      "metadata": {
        "id": "WVXVEgueCelm"
      },
      "outputs": [],
      "source": [
        "predictions=model.evaluate(test_generator,steps=196)\n",
        "predictions"
      ]
    },
    {
      "cell_type": "code",
      "execution_count": null,
      "metadata": {
        "id": "kLzdORxkCxOD"
      },
      "outputs": [],
      "source": [
        "model.save('model_secondrun.h5')"
      ]
    },
    {
      "cell_type": "code",
      "execution_count": null,
      "metadata": {
        "id": "uLhp5Y2KStcR"
      },
      "outputs": [],
      "source": [
        "K.clear_session()\n",
        "del model"
      ]
    },
    {
      "cell_type": "markdown",
      "metadata": {
        "id": "0_D7KkUdniWW"
      },
      "source": [
        "##**Using transfer learning**"
      ]
    },
    {
      "cell_type": "code",
      "execution_count": null,
      "metadata": {
        "id": "O9Up-_9eTTXu"
      },
      "outputs": [],
      "source": [
        "conv_base=InceptionResNetV2(weights='imagenet',\n",
        "                include_top=False,\n",
        "                input_shape=(150,150,3))"
      ]
    },
    {
      "cell_type": "code",
      "execution_count": null,
      "metadata": {
        "id": "nuCUp02Un8lP"
      },
      "outputs": [],
      "source": [
        "conv_base.summary()"
      ]
    },
    {
      "cell_type": "code",
      "execution_count": null,
      "metadata": {
        "id": "dBmtwkL9n_VP"
      },
      "outputs": [],
      "source": [
        "model=keras.models.Sequential()\n",
        "\n",
        "model.add(conv_base)\n",
        "model.add(keras.layers.Flatten())\n",
        "model.add(keras.layers.Dense(256,activation='relu'))\n",
        "model.add(keras.layers.Dense(1,activation='sigmoid'))"
      ]
    },
    {
      "cell_type": "code",
      "execution_count": null,
      "metadata": {
        "id": "keNzYqKsoQV4"
      },
      "outputs": [],
      "source": [
        "model.compile(loss='binary_crossentropy',\n",
        "              optimizer=keras.optimizers.RMSprop(learning_rate=1e-5),\n",
        "              metrics=['acc'])"
      ]
    },
    {
      "cell_type": "code",
      "execution_count": null,
      "metadata": {
        "id": "VapYS52XpHCV"
      },
      "outputs": [],
      "source": [
        "checkpoint_cb=keras.callbacks.ModelCheckpoint('CNN-ProjectModel-{epoch:02d}.h5',save_best_only=True)"
      ]
    },
    {
      "cell_type": "code",
      "execution_count": null,
      "metadata": {
        "id": "fDpGPiJdpfsX"
      },
      "outputs": [],
      "source": [
        "model_history=model.fit(train_generator,\n",
        "                        steps_per_epoch=440,\n",
        "                        epochs=10,\n",
        "                        validation_data=valid_generator,\n",
        "                        validation_steps=147,\n",
        "                        callbacks=[checkpoint_cb])"
      ]
    },
    {
      "cell_type": "code",
      "execution_count": null,
      "metadata": {
        "id": "uiQ59i_ypvgt",
        "colab": {
          "base_uri": "https://localhost:8080/",
          "height": 836
        },
        "outputId": "d23488ad-889e-496d-b830-3cf8130a1cfd"
      },
      "outputs": [
        {
          "output_type": "display_data",
          "data": {
            "text/plain": [
              "<Figure size 700x1000 with 1 Axes>"
            ],
            "image/png": "[encoded data removed]"
          },
          "metadata": {}
        }
      ],
      "source": [
        "pd.DataFrame(model_history.history).plot(figsize=(7,10))\n",
        "plt.grid(True)\n",
        "plt.gca().set_ylim(0,1)\n",
        "plt.show()"
      ]
    },
    {
      "cell_type": "code",
      "execution_count": null,
      "metadata": {
        "id": "z0vdJkuSpwmI",
        "colab": {
          "base_uri": "https://localhost:8080/"
        },
        "outputId": "1119065e-b74d-4eab-e4e9-986eb52b0530"
      },
      "outputs": [
        {
          "output_type": "stream",
          "name": "stdout",
          "text": [
            "196/196 [==============================] - 17s 87ms/step - loss: 0.6445 - acc: 0.9765\n"
          ]
        },
        {
          "output_type": "execute_result",
          "data": {
            "text/plain": [
              "[0.6445493102073669, 0.9764800071716309]"
            ]
          },
          "metadata": {},
          "execution_count": 23
        }
      ],
      "source": [
        "predictions=model.evaluate(test_generator,steps=196)\n",
        "predictions"
      ]
    }
  ],
  "metadata": {
    "accelerator": "GPU",
    "colab": {
      "provenance": []
    },
    "kernelspec": {
      "display_name": "Python 3",
      "name": "python3"
    },
    "language_info": {
      "name": "python"
    }
  },
  "nbformat": 4,
  "nbformat_minor": 0
}