{
  "nbformat": 4,
  "nbformat_minor": 0,
  "metadata": {
    "colab": {
      "provenance": [],
      "gpuType": "T4"
    },
    "kernelspec": {
      "name": "python3",
      "display_name": "Python 3"
    },
    "language_info": {
      "name": "python"
    },
    "accelerator": "GPU"
  },
  "cells": [
    {
      "cell_type": "code",
      "execution_count": 1,
      "metadata": {
        "id": "4zbXLY7E1_g3"
      },
      "outputs": [],
      "source": [
        "import tensorflow as tf\n",
        "from tensorflow import keras\n",
        "import numpy as np\n",
        "import pandas as pd\n",
        "import matplotlib.pyplot as plt\n",
        "from keras.preprocessing.image import ImageDataGenerator\n",
        "from keras.applications import VGG19"
      ]
    },
    {
      "cell_type": "code",
      "source": [
        "train_dir='/content/drive/MyDrive/Colab Notebooks/Osteoarthritis_Assignment_dataset/train'\n",
        "valid_dir='/content/drive/MyDrive/Colab Notebooks/Osteoarthritis_Assignment_dataset/Valid'\n",
        "test_dir='/content/drive/MyDrive/Colab Notebooks/Osteoarthritis_Assignment_dataset/test'"
      ],
      "metadata": {
        "id": "Nak3ptSHJh62"
      },
      "execution_count": 3,
      "outputs": []
    },
    {
      "cell_type": "code",
      "source": [
        "train_gen=ImageDataGenerator(rescale=1./255,\n",
        "                             rotation_range=40,\n",
        "                             height_shift_range=0.2,\n",
        "                             width_shift_range=0.2,\n",
        "                             shear_range=0.2,\n",
        "                             horizontal_flip=True,\n",
        "                             zoom_range=0.2)\n",
        "valid_gen=ImageDataGenerator(rescale=1./255)\n",
        "test_gen=ImageDataGenerator(rescale=1./255)\n",
        "\n",
        "train_generator=train_gen.flow_from_directory(\n",
        "    train_dir,\n",
        "    target_size=(150,150),\n",
        "    batch_size=10,\n",
        "    class_mode='binary'\n",
        ")\n",
        "\n",
        "valid_generator=valid_gen.flow_from_directory(\n",
        "    valid_dir,\n",
        "    target_size=(150,150),\n",
        "    batch_size=10,\n",
        "    class_mode='binary'\n",
        ")\n",
        "\n",
        "test_generator=test_gen.flow_from_directory(\n",
        "    test_dir,\n",
        "    target_size=(150,150),\n",
        "    batch_size=10,\n",
        "    class_mode='binary'\n",
        ")"
      ],
      "metadata": {
        "colab": {
          "base_uri": "https://localhost:8080/"
        },
        "id": "b5oJpFL0aNGO",
        "outputId": "23f624f5-3b4e-4aae-ecea-73b4c823e8fa"
      },
      "execution_count": 4,
      "outputs": [
        {
          "output_type": "stream",
          "name": "stdout",
          "text": [
            "Found 2350 images belonging to 2 classes.\n",
            "Found 641 images belonging to 2 classes.\n",
            "Found 845 images belonging to 2 classes.\n"
          ]
        }
      ]
    },
    {
      "cell_type": "code",
      "source": [
        "conv_base=VGG16(include_top=False,\n",
        "                      weights='imagenet',\n",
        "                      input_shape=(150,150,3))"
      ],
      "metadata": {
        "id": "PceWufjGccYA"
      },
      "execution_count": null,
      "outputs": []
    },
    {
      "cell_type": "code",
      "source": [
        "model=keras.models.Sequential()\n",
        "model.add(conv_base)\n",
        "\n",
        "model.add(keras.layers.Flatten())\n",
        "model.add(keras.layers.Dense(150,activation='relu'))\n",
        "model.add(keras.layers.Dense(1,activation='softmax'))"
      ],
      "metadata": {
        "id": "nHF-jecMd77k"
      },
      "execution_count": 6,
      "outputs": []
    },
    {
      "cell_type": "code",
      "source": [
        "model.summary()"
      ],
      "metadata": {
        "colab": {
          "base_uri": "https://localhost:8080/"
        },
        "id": "JNvpQgiMem8d",
        "outputId": "c42c0ecb-0118-44ed-906d-bad248c1a123"
      },
      "execution_count": 7,
      "outputs": [
        {
          "output_type": "stream",
          "name": "stdout",
          "text": [
            "Model: \"sequential\"\n",
            "_________________________________________________________________\n",
            " Layer (type)                Output Shape              Param #   \n",
            "=================================================================\n",
            " vgg16 (Functional)          (None, 4, 4, 512)         14714688  \n",
            "                                                                 \n",
            " flatten (Flatten)           (None, 8192)              0         \n",
            "                                                                 \n",
            " dense (Dense)               (None, 150)               1228950   \n",
            "                                                                 \n",
            " dense_1 (Dense)             (None, 1)                 151       \n",
            "                                                                 \n",
            "=================================================================\n",
            "Total params: 15943789 (60.82 MB)\n",
            "Trainable params: 15943789 (60.82 MB)\n",
            "Non-trainable params: 0 (0.00 Byte)\n",
            "_________________________________________________________________\n"
          ]
        }
      ]
    },
    {
      "cell_type": "code",
      "source": [
        "model.compile(loss='binary_crossentropy',\n",
        "              optimizer=keras.optimizers.RMSprop(learning_rate=1e-5),\n",
        "              metrics=['acc'])"
      ],
      "metadata": {
        "id": "qtdMF-epepBT"
      },
      "execution_count": 8,
      "outputs": []
    },
    {
      "cell_type": "code",
      "source": [
        "model_history=model.fit(train_generator,\n",
        "                        steps_per_epoch=235,\n",
        "                        epochs=10,\n",
        "                        validation_data=valid_generator,\n",
        "                        validation_steps=65)"
      ],
      "metadata": {
        "id": "ARp5TswGfMOQ"
      },
      "execution_count": null,
      "outputs": []
    },
    {
      "cell_type": "code",
      "source": [
        "model.evaluate(test_generator,steps=85)"
      ],
      "metadata": {
        "id": "VkKLHcEWfx5K"
      },
      "execution_count": null,
      "outputs": []
    }
  ]
}
