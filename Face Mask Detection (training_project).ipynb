{
 "cells": [
  {
   "cell_type": "code",
   "execution_count": 12,
   "id": "d8ab2236-7511-4c7d-8d0f-62247b51b5de",
   "metadata": {},
   "outputs": [],
   "source": [
    "import tensorflow as tf\n",
    "from tensorflow import keras\n",
    "import numpy as np\n",
    "import pandas as pd\n",
    "import matplotlib.pyplot as plt\n",
    "from keras.preprocessing.image import ImageDataGenerator\n",
    "from tensorflow.keras.applications import VGG19"
   ]
  },
  {
   "cell_type": "code",
   "execution_count": 8,
   "id": "fad7c1df-bfde-4da6-8e4c-1de9a43bac48",
   "metadata": {},
   "outputs": [],
   "source": [
    "train_dir=r'C:\\Users\\HABEN\\Desktop\\Practises\\Files\\Final_Assignment_Face Mask Dataset\\Train'\n",
    "valid_dir=r\"C:\\Users\\HABEN\\Desktop\\Practises\\Files\\Final_Assignment_Face Mask Dataset\\Validation\"\n",
    "test_dir=r\"C:\\Users\\HABEN\\Desktop\\Practises\\Files\\Final_Assignment_Face Mask Dataset\\Test\""
   ]
  },
  {
   "cell_type": "code",
   "execution_count": 9,
   "id": "62d97380-3abd-44f1-90e1-cab19419e8b9",
   "metadata": {},
   "outputs": [
    {
     "name": "stdout",
     "output_type": "stream",
     "text": [
      "Found 10000 images belonging to 2 classes.\n",
      "Found 800 images belonging to 2 classes.\n",
      "Found 992 images belonging to 2 classes.\n"
     ]
    }
   ],
   "source": [
    "train_gen=ImageDataGenerator(rescale=1./255,\n",
    "                             height_shift_range=0.2,\n",
    "                             horizontal_flip=True,\n",
    "                             width_shift_range=0.2,\n",
    "                             shear_range=0.2,\n",
    "                             rotation_range=40,\n",
    "                             zoom_range=0.2)\n",
    "valid_gen=ImageDataGenerator(rescale=1./255)\n",
    "test_gen=ImageDataGenerator(rescale=1./255)\n",
    "\n",
    "train_generator=train_gen.flow_from_directory(\n",
    "    train_dir,\n",
    "    target_size=(128,128),\n",
    "    batch_size=20,\n",
    "    class_mode='binary'\n",
    ")\n",
    "valid_generator=valid_gen.flow_from_directory(\n",
    "    valid_dir,\n",
    "    target_size=(128,128),\n",
    "    batch_size=20,\n",
    "    class_mode='binary'\n",
    ")\n",
    "test_generator=train_gen.flow_from_directory(\n",
    "    test_dir,\n",
    "    target_size=(128,128),\n",
    "    batch_size=20,\n",
    "    class_mode='binary'\n",
    ")"
   ]
  },
  {
   "cell_type": "code",
   "execution_count": 13,
   "id": "03303dc0-5306-4b68-bd26-d15f3494a8e6",
   "metadata": {},
   "outputs": [
    {
     "name": "stdout",
     "output_type": "stream",
     "text": [
      "Downloading data from https://storage.googleapis.com/tensorflow/keras-applications/vgg19/vgg19_weights_tf_dim_ordering_tf_kernels_notop.h5\n",
      "80142336/80134624 [==============================] - 161s 2us/step\n",
      "80150528/80134624 [==============================] - 161s 2us/step\n"
     ]
    }
   ],
   "source": [
    "conv_base=VGG19(include_top=False,\n",
    "                weights='imagenet',\n",
    "                input_shape=(128,128,3))"
   ]
  },
  {
   "cell_type": "code",
   "execution_count": 14,
   "id": "bbd940fb-4bdf-430c-b015-b01f01a1600c",
   "metadata": {},
   "outputs": [],
   "source": [
    "callback_cb=keras.callbacks.ModelCheckpoint('Model_trained-{epoch:2d}.h5',save_best_only=True)"
   ]
  },
  {
   "cell_type": "code",
   "execution_count": 16,
   "id": "c799675a-5915-48e6-a375-e3c18e2c9a1d",
   "metadata": {},
   "outputs": [],
   "source": [
    "model=keras.models.Sequential()\n",
    "model.add(conv_base)\n",
    "model.add(keras.layers.Flatten())\n",
    "model.add(keras.layers.Dense(300,activation='relu'))\n",
    "model.add(keras.layers.Dense(1,activation='sigmoid'))"
   ]
  },
  {
   "cell_type": "code",
   "execution_count": 17,
   "id": "fd54a045-86c6-4fe6-93f1-951d66fca563",
   "metadata": {
    "scrolled": true
   },
   "outputs": [
    {
     "name": "stdout",
     "output_type": "stream",
     "text": [
      "Model: \"sequential\"\n",
      "_________________________________________________________________\n",
      " Layer (type)                Output Shape              Param #   \n",
      "=================================================================\n",
      " vgg19 (Functional)          (None, 4, 4, 512)         20024384  \n",
      "                                                                 \n",
      " flatten (Flatten)           (None, 8192)              0         \n",
      "                                                                 \n",
      " dense (Dense)               (None, 300)               2457900   \n",
      "                                                                 \n",
      " dense_1 (Dense)             (None, 1)                 301       \n",
      "                                                                 \n",
      "=================================================================\n",
      "Total params: 22,482,585\n",
      "Trainable params: 22,482,585\n",
      "Non-trainable params: 0\n",
      "_________________________________________________________________\n"
     ]
    }
   ],
   "source": [
    "model.summary()"
   ]
  },
  {
   "cell_type": "code",
   "execution_count": 18,
   "id": "9c78160b-bf30-4bf5-9bf3-58546de5ce95",
   "metadata": {},
   "outputs": [],
   "source": [
    "model.compile(loss='binary_crossentropy',metrics=['acc'],optimizer=keras.optimizers.RMSprop(learning_rate=1e-5))"
   ]
  },
  {
   "cell_type": "code",
   "execution_count": 19,
   "id": "1aca9929-046a-4bc2-ab8d-0314dedf5ed6",
   "metadata": {},
   "outputs": [
    {
     "name": "stdout",
     "output_type": "stream",
     "text": [
      "Epoch 1/5\n",
      "500/500 [==============================] - 5227s 10s/step - loss: 0.0763 - acc: 0.9721 - val_loss: 0.0030 - val_acc: 1.0000\n",
      "Epoch 2/5\n",
      "500/500 [==============================] - 5187s 10s/step - loss: 0.0254 - acc: 0.9932 - val_loss: 0.0019 - val_acc: 0.9987\n",
      "Epoch 3/5\n",
      "500/500 [==============================] - 5206s 10s/step - loss: 0.0172 - acc: 0.9947 - val_loss: 0.0017 - val_acc: 0.9987\n",
      "Epoch 4/5\n",
      "500/500 [==============================] - 5903s 12s/step - loss: 0.0147 - acc: 0.9958 - val_loss: 6.9688e-04 - val_acc: 1.0000\n",
      "Epoch 5/5\n",
      "500/500 [==============================] - 5151s 10s/step - loss: 0.0118 - acc: 0.9967 - val_loss: 0.0010 - val_acc: 0.9987\n"
     ]
    }
   ],
   "source": [
    "model_history=model.fit(train_generator,steps_per_epoch=500,epochs=5,validation_data=valid_generator,validation_steps=40)"
   ]
  },
  {
   "cell_type": "code",
   "execution_count": null,
   "id": "a3fdf63a-3f89-49c9-84a1-9b4bb0f87dca",
   "metadata": {},
   "outputs": [],
   "source": []
  }
 ],
 "metadata": {
  "kernelspec": {
   "display_name": "Python 3 (ipykernel)",
   "language": "python",
   "name": "python3"
  },
  "language_info": {
   "codemirror_mode": {
    "name": "ipython",
    "version": 3
   },
   "file_extension": ".py",
   "mimetype": "text/x-python",
   "name": "python",
   "nbconvert_exporter": "python",
   "pygments_lexer": "ipython3",
   "version": "3.9.18"
  }
 },
 "nbformat": 4,
 "nbformat_minor": 5
}
